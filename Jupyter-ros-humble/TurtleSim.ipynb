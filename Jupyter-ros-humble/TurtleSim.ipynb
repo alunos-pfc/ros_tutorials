{
 "cells": [
  {
   "cell_type": "markdown",
   "metadata": {},
   "source": [
    "Credits to https://jupyter-ros.readthedocs.io/en/latest/user_ros_essentials.html#turtlesim"
   ]
  },
  {
   "cell_type": "code",
   "execution_count": 4,
   "id": "e46e3905-dd01-488e-87a6-9acaeb507f47",
   "metadata": {
    "tags": []
   },
   "outputs": [
    {
     "name": "stdout",
     "output_type": "stream",
     "text": [
      "turtle1 has spawned.\n"
     ]
    },
    {
     "data": {
      "application/vnd.jupyter.widget-view+json": {
       "model_id": "0c717e04ed064708a351caeb9620c529",
       "version_major": 2,
       "version_minor": 0
      },
      "text/plain": [
       "MultiCanvas(height=1600, layout=Layout(width='100%'), width=1600)"
      ]
     },
     "metadata": {},
     "output_type": "display_data"
    }
   ],
   "source": [
    "import jupyros\n",
    "import rospy\n",
    "from jupyros import TurtleSim\n",
    "\n",
    "turtlesim = TurtleSim(width=1600,\n",
    "                      height=1600,\n",
    "                      turtle_size=100,\n",
    "                      background_color=\"#4556FF\")\n",
    "\n",
    "display(turtlesim.canvas)"
   ]
  },
  {
   "cell_type": "code",
   "execution_count": 5,
   "id": "76f476ed-c8e8-4831-adfa-c84cded5b0d1",
   "metadata": {
    "tags": []
   },
   "outputs": [
    {
     "name": "stdout",
     "output_type": "stream",
     "text": [
      "turtle2 has spawned.\n"
     ]
    }
   ],
   "source": [
    "import math\n",
    "turtlesim.spawn(name=\"turtle2\", pose={\"x\": 630,\n",
    "                                      \"y\": 1260,\n",
    "                                      \"theta\": math.radians(90)})"
   ]
  },
  {
   "cell_type": "code",
   "execution_count": 6,
   "id": "107a00d2-d17d-492f-8ced-ddd048f8b197",
   "metadata": {
    "tags": []
   },
   "outputs": [],
   "source": [
    "# Retrieve current poses of the two turtles\n",
    "new_poses = {\"turtle1\": turtlesim.turtles[\"turtle1\"].pose,\n",
    "             \"turtle2\": turtlesim.turtles[\"turtle2\"].pose}\n",
    "\n",
    "# Change the pose for the second turtle\n",
    "new_poses[\"turtle2\"] = {\"x\": 800, \"y\": 300, \"theta\": 2.5}\n",
    "\n",
    "# Update the canvas\n",
    "turtlesim.move_turtles(new_poses)"
   ]
  }
 ],
 "metadata": {
  "kernelspec": {
   "display_name": "Python 3 (ipykernel)",
   "language": "python",
   "name": "python3"
  },
  "language_info": {
   "codemirror_mode": {
    "name": "ipython",
    "version": 3
   },
   "file_extension": ".py",
   "mimetype": "text/x-python",
   "name": "python",
   "nbconvert_exporter": "python",
   "pygments_lexer": "ipython3",
   "version": "3.9.15"
  }
 },
 "nbformat": 4,
 "nbformat_minor": 5
}
